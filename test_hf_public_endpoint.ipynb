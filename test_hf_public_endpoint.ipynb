{
 "cells": [
  {
   "cell_type": "markdown",
   "id": "39730a30",
   "metadata": {},
   "source": [
    "Test the HuggingFace /predict/ endpoint by sending a POST request with an image file to https://mcherif-plant-disease-api.hf.space/predict/"
   ]
  },
  {
   "cell_type": "code",
   "execution_count": 1,
   "id": "53013253",
   "metadata": {},
   "outputs": [
    {
     "name": "stdout",
     "output_type": "stream",
     "text": [
      "{'class': 'Apple___Apple_scab', 'confidence': 0.9983774423599243}\n"
     ]
    }
   ],
   "source": [
    "import requests\n",
    "\n",
    "url = \"https://mcherif-plant-disease-api.hf.space/predict/\"\n",
    "files = {'file': open('test_image.JPG', 'rb')}\n",
    "\n",
    "response = requests.post(url, files=files)\n",
    "print(response.json())\n"
   ]
  }
 ],
 "metadata": {
  "kernelspec": {
   "display_name": "plant",
   "language": "python",
   "name": "python3"
  },
  "language_info": {
   "codemirror_mode": {
    "name": "ipython",
    "version": 3
   },
   "file_extension": ".py",
   "mimetype": "text/x-python",
   "name": "python",
   "nbconvert_exporter": "python",
   "pygments_lexer": "ipython3",
   "version": "3.11.13"
  }
 },
 "nbformat": 4,
 "nbformat_minor": 5
}
